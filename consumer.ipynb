{
 "cells": [
  {
   "cell_type": "code",
   "execution_count": 2,
   "id": "b31aed50",
   "metadata": {},
   "outputs": [
    {
     "name": "stdout",
     "output_type": "stream",
     "text": [
      "2.0.2\n",
      "Kafka Consumer Application Started ... \n"
     ]
    },
    {
     "ename": "NameError",
     "evalue": "name 'cert_folder' is not defined",
     "output_type": "error",
     "traceback": [
      "\u001b[0;31m---------------------------------------------------------------------------\u001b[0m",
      "\u001b[0;31mNameError\u001b[0m                                 Traceback (most recent call last)",
      "\u001b[0;32m/tmp/ipykernel_213768/482103269.py\u001b[0m in \u001b[0;36m<module>\u001b[0;34m\u001b[0m\n\u001b[1;32m     22\u001b[0m     \u001b[0menable_auto_commit\u001b[0m\u001b[0;34m=\u001b[0m\u001b[0;32mTrue\u001b[0m\u001b[0;34m,\u001b[0m\u001b[0;34m\u001b[0m\u001b[0;34m\u001b[0m\u001b[0m\n\u001b[1;32m     23\u001b[0m     \u001b[0msecurity_protocol\u001b[0m \u001b[0;34m=\u001b[0m \u001b[0;34m\"SSL\"\u001b[0m\u001b[0;34m,\u001b[0m\u001b[0;34m\u001b[0m\u001b[0;34m\u001b[0m\u001b[0m\n\u001b[0;32m---> 24\u001b[0;31m     \u001b[0mssl_cafile\u001b[0m \u001b[0;34m=\u001b[0m \u001b[0mcert_folder\u001b[0m\u001b[0;34m+\u001b[0m\u001b[0;34m\"/ca.pem\"\u001b[0m\u001b[0;34m,\u001b[0m\u001b[0;34m\u001b[0m\u001b[0;34m\u001b[0m\u001b[0m\n\u001b[0m\u001b[1;32m     25\u001b[0m     \u001b[0mssl_certfile\u001b[0m \u001b[0;34m=\u001b[0m \u001b[0mcert_folder\u001b[0m\u001b[0;34m+\u001b[0m\u001b[0;34m\"/service.cert\"\u001b[0m\u001b[0;34m,\u001b[0m\u001b[0;34m\u001b[0m\u001b[0;34m\u001b[0m\u001b[0m\n\u001b[1;32m     26\u001b[0m     \u001b[0mssl_keyfile\u001b[0m \u001b[0;34m=\u001b[0m \u001b[0mcert_folder\u001b[0m\u001b[0;34m+\u001b[0m\u001b[0;34m\"/service.key\"\u001b[0m\u001b[0;34m,\u001b[0m\u001b[0;34m\u001b[0m\u001b[0;34m\u001b[0m\u001b[0m\n",
      "\u001b[0;31mNameError\u001b[0m: name 'cert_folder' is not defined"
     ]
    }
   ],
   "source": [
    "from kafka import KafkaConsumer\n",
    "import kafka\n",
    "print(kafka.__version__)\n",
    "from json import loads\n",
    "import time\n",
    "import pandas as pd\n",
    "\n",
    "KAFKA_CONSUMER_GROUP_NAME_CONS = 'test_consumer_group'\n",
    "KAFKA_TOPIC_NAME_CONS = 'songTest'\n",
    "KAFKA_OUTPUT_TOPIC_NAME_CONS = 'outputtopic'\n",
    "KAFKA_BOOTSTRAP_SERVERS_CONS = 'localhost:9092'\n",
    "\n",
    "if __name__ == \"__main__\":\n",
    "\n",
    "    print(\"Kafka Consumer Application Started ... \")\n",
    "    # auto_offset_reset='latest'\n",
    "    # auto_offset_reset='earliest'\n",
    "    consumer = KafkaConsumer(\n",
    "    'songTest',\n",
    "    bootstrap_servers=['localhost:9092'],\n",
    "    auto_offset_reset='earliest',\n",
    "    enable_auto_commit=True,\n",
    "    group_id='123',\n",
    "    value_deserializer=lambda x: loads(x.decode('utf-8')))\n",
    "    \n",
    "    print(consumer)\n",
    "    def get_message_df():\n",
    "        print(\"Reading Messages from Kafka Topic about to Start ... \")\n",
    "        message_list = []\n",
    "        counter = 0\n",
    "        df = pd.DataFrame()\n",
    "        for message in consumer:\n",
    "            print(dir(message))\n",
    "            print(type(message))\n",
    "            print(\"Key: \", message.key)\n",
    "            output_message = message.value\n",
    "            print(type(message.value))\n",
    "            print(\"Message received: \", output_message)\n",
    "            message_list.append(output_message)\n",
    "            df.append(output_message, [counter])\n",
    "            counter += 1\n",
    "            print(\"Counter in for loop: \", counter)\n",
    "            if counter == 10:\n",
    "                print(\"Counter in if loop: \", counter)\n",
    "                yield df\n",
    "                \n",
    "                message_list = []\n",
    "                #df = None\n",
    "                counter = 0\n",
    "                time.sleep(5)\n",
    "\n",
    "    \n",
    "    for df in get_message_df():\n",
    "        print(\"Before DataFrame Head ...\")\n",
    "        df.head()\n",
    "        print(\"After DataFrame Head.\")"
   ]
  },
  {
   "cell_type": "code",
   "execution_count": null,
   "id": "c53a9826",
   "metadata": {},
   "outputs": [],
   "source": []
  }
 ],
 "metadata": {
  "kernelspec": {
   "display_name": "Python 3 (ipykernel)",
   "language": "python",
   "name": "python3"
  },
  "language_info": {
   "codemirror_mode": {
    "name": "ipython",
    "version": 3
   },
   "file_extension": ".py",
   "mimetype": "text/x-python",
   "name": "python",
   "nbconvert_exporter": "python",
   "pygments_lexer": "ipython3",
   "version": "3.7.13"
  }
 },
 "nbformat": 4,
 "nbformat_minor": 5
}
